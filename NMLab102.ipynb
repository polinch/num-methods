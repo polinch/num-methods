{
 "cells": [
  {
   "cell_type": "code",
   "execution_count": 1,
   "metadata": {},
   "outputs": [],
   "source": [
    "\"\"\"\n",
    "Численное решение ОДУ экстраполяционным методом Адамса\n",
    "\"\"\"\n",
    "\n",
    "\n",
    "import numpy as np\n",
    "import math\n",
    "import matplotlib.pyplot as plt\n",
    "%matplotlib inline\n",
    "\n",
    "\n",
    "#начальные условия\n",
    "t0 = 0\n",
    "T = 65\n",
    "y0 = z0 = 155\n",
    "\n",
    "#начальный шаг\n",
    "h0 = 0.1\n",
    "\n",
    "#точность\n",
    "eps = 0.0001\n",
    "\n",
    "\n",
    "#количество точек\n",
    "def Count(h):\n",
    "    return math.ceil((T - t0)/h)\n",
    "\n",
    "\n",
    "#исходные уравнения\n",
    "def DY(y):\n",
    "    return 0.01*(130 - y)*(y - 147)\n",
    "\n",
    "\n",
    "def DZ(t, z):\n",
    "    return 0.01*(130 - z)*(z - 147) - 2*math.sin(t/3)\n",
    "\n",
    "\n",
    "#функция, принимающая значение DY и DZ в зависимости от параметра p\n",
    "def D(t, y, p):\n",
    "    if p == 1:\n",
    "        return DY(y)\n",
    "    elif p == 2:\n",
    "        return DZ(t, y)\n",
    "\n",
    "    \n",
    "#экстраполяционный метод Адамса 4-го порядка, первые 4 значения найдем по методу РК 4-го порядка\n",
    "def Adams(t0, h, y0, p):\n",
    "    N = Count(h)\n",
    "    Y = np.zeros(N+1)\n",
    "    t = np.zeros(N+1)\n",
    "    h = 65/N\n",
    "    Y[0] = y0\n",
    "    t[0] = t0\n",
    "    for i in range(0,3):\n",
    "        k1 = D(t[i], Y[i], p)\n",
    "        k2 = D(t[i] + h/2, Y[i] + h*k1/2, p)\n",
    "        k3 = D(t[i] + h/2, Y[i] + h*k2/2, p)\n",
    "        k4 = D(t[i] + h, Y[i] + h*k3, p)\n",
    "        Y[i+1] = Y[i] + h*(k1 + 2*k2 + 2*k3 + k4)/6\n",
    "        t[i+1] = t[i] + h\n",
    "    for i in range(3, N):\n",
    "        Y[i+1] = Y[i] + h*(55*D(t[i], Y[i], p) - 59*D(t[i-1], Y[i-1], p) + 37*D(t[i-2], Y[i-2], p) - 9*D(t[i-3], Y[i-3], p))/24\n",
    "        t[i+1] = t[i] + h\n",
    "    return Y\n",
    "\n",
    "\n",
    "#правило Рунге двойного пересчета\n",
    "def Runge(t0, h, y0, p):\n",
    "    N = Count(h)\n",
    "    h = 65/N\n",
    "    R = np.zeros(N+1)\n",
    "    for i in range(N+1):\n",
    "        R[i] = abs(Adams(t0, h/2, y0, p)[2*i] - Adams(t0, h, y0, p)[i])/(2**4 -1)\n",
    "    return R\n",
    "\n",
    "\n",
    "#функция для нахождения количества точек - для достижения заданной точности\n",
    "def Accuracy(t0, y0, p, eps):\n",
    "    h = 1\n",
    "    R = Runge(t0, h, y0, p)\n",
    "    R1 = max(R)\n",
    "    while (R1 > eps):\n",
    "        h1 = h/2\n",
    "        R1 = max(Runge(t0, h1, y0, p))\n",
    "        h = h1\n",
    "    return h\n",
    "\n",
    "\n",
    "#массив точек\n",
    "def Dots(t0, h):\n",
    "    N = Count(h)\n",
    "    h = 65/N\n",
    "    t = np.zeros(N+1)\n",
    "    t[0] = t0\n",
    "    for i in range(0, N):\n",
    "        t[i+1] = t[i] + h\n",
    "    return t\n"
   ]
  },
  {
   "cell_type": "code",
   "execution_count": 2,
   "metadata": {},
   "outputs": [
    {
     "name": "stdout",
     "output_type": "stream",
     "text": [
      "Шаг для y' =  0.5\n",
      "Шаг для z' =  0.25\n"
     ]
    }
   ],
   "source": [
    "#количество точек для достижения заданной точности\n",
    "hy = Accuracy(0, 155, 1, 0.0001)\n",
    "hz = Accuracy(0, 155, 2, 0.0001)\n",
    "print(\"Шаг для y' = \", hy)\n",
    "print(\"Шаг для z' = \", hz)"
   ]
  },
  {
   "cell_type": "code",
   "execution_count": 3,
   "metadata": {
    "scrolled": true
   },
   "outputs": [
    {
     "data": {
      "image/png": "[encoded data removed]",
      "text/plain": [
       "<Figure size 432x288 with 1 Axes>"
      ]
     },
     "metadata": {
      "needs_background": "light"
     },
     "output_type": "display_data"
    }
   ],
   "source": [
    "#построим графики, берем меньший шаг hz = 0.25\n",
    "tz = Dots(t0, hz)\n",
    "Y = Adams(t0, hz, y0, 1)\n",
    "Z = Adams(t0, hz, z0, 2)\n",
    "plt.plot(tz, Y, 'r');\n",
    "plt.plot(tz, Z, 'g');"
   ]
  },
  {
   "cell_type": "code",
   "execution_count": 21,
   "metadata": {},
   "outputs": [
    {
     "name": "stdout",
     "output_type": "stream",
     "text": [
      "Площадь, заключенная между графиками 228.29452723660495\n"
     ]
    }
   ],
   "source": [
    "#посчитаем площадь, заключеннную между графиками\n",
    "\n",
    "S = 0\n",
    "for i in range (Count(hz)):\n",
    "    if i % 2 != 0:\n",
    "       S += abs(Y[i] - Z[i])\n",
    "\n",
    "    \n",
    "S = hy * S\n",
    "print(\"Площадь, заключенная между графиками\", S)"
   ]
  },
  {
   "cell_type": "code",
   "execution_count": 5,
   "metadata": {},
   "outputs": [
    {
     "name": "stdout",
     "output_type": "stream",
     "text": [
      "Максимум по модулю из массива погрешности для y' =  6.0185087306763306e-06\n",
      "Максимум по модулю из массива погрешности для z' =  1.026443237795623e-05\n"
     ]
    }
   ],
   "source": [
    "#максимум по модулю из массива погрешности по Рунге\n",
    "\n",
    "Ry = max(Runge(0, hz, 155, 1))\n",
    "Rz = max(Runge(0, hz, 155, 2))\n",
    "\n",
    "\n",
    "print(\"Максимум по модулю из массива погрешности для y' = \", Ry)\n",
    "print(\"Максимум по модулю из массива погрешности для z' = \", Rz)"
   ]
  },
  {
   "cell_type": "code",
   "execution_count": null,
   "metadata": {
    "collapsed": true
   },
   "outputs": [],
   "source": []
  }
 ],
 "metadata": {
  "kernelspec": {
   "display_name": "Python 3",
   "language": "python",
   "name": "python3"
  },
  "language_info": {
   "codemirror_mode": {
    "name": "ipython",
    "version": 3
   },
   "file_extension": ".py",
   "mimetype": "text/x-python",
   "name": "python",
   "nbconvert_exporter": "python",
   "pygments_lexer": "ipython3",
   "version": "3.6.7"
  }
 },
 "nbformat": 4,
 "nbformat_minor": 1
}
