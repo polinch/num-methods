{
 "cells": [
  {
   "cell_type": "code",
   "execution_count": 1,
   "metadata": {},
   "outputs": [],
   "source": [
    "\"\"\"\n",
    "Численное решение ОДУ методом прогонки\n",
    "\"\"\"\n",
    "\n",
    "\n",
    "import numpy as np\n",
    "import math\n",
    "import matplotlib.pyplot as plt\n",
    "%matplotlib inline\n"
   ]
  },
  {
   "cell_type": "code",
   "execution_count": 2,
   "metadata": {},
   "outputs": [],
   "source": [
    "#начальные данные\n",
    "\n",
    "#отрезок\n",
    "a = 0\n",
    "b = 1\n",
    "\n",
    "#значения функции на концах отрезка\n",
    "ua = 0\n",
    "ub = 1.8\n",
    "\n",
    "#коэффициенты\n",
    "p = 0.5\n",
    "q = 3\n",
    "\n",
    "#константы - для аналитического решения\n",
    "c1 = (1.8 + 61/36 - 0.5 - 1/6 - 61*np.exp(2)/36) / (np.exp(-1.5) - np.exp(2))\n",
    "c2 = 61/36 - c1\n",
    "\n",
    "#количество разбиений\n",
    "count = lambda t: math.ceil((b - a) / t)\n",
    "\n",
    "#функция правой части уравнения\n",
    "f = lambda t: 1.5 * t**2 + t - 6\n",
    "\n",
    "#аналитическое решение\n",
    "u = lambda t: c1 * np.exp(-1.5*t) + c2 * np.exp(2*t) + (t**2)/2 + t/6 - 61/36\n"
   ]
  },
  {
   "cell_type": "code",
   "execution_count": 3,
   "metadata": {},
   "outputs": [],
   "source": [
    "#метод прогонки\n",
    "def running(h):\n",
    "    t = np.arange(a, b + h, h)\n",
    "    N = count(h) + 1\n",
    "    solution = np.zeros(N)\n",
    "    A = -1 - 0.25*h\n",
    "    B = 2 + 3*(h**2)\n",
    "    C = 0.25*h - 1\n",
    "    solution[0] = ua\n",
    "    solution[N-1] = ub\n",
    "    \n",
    "    #массивы коэффициентов прогонки\n",
    "    alpha = np.zeros(N)\n",
    "    beta = np.zeros(N)\n",
    "    gamma = np.zeros(N)\n",
    "    \n",
    "    #прямой ход прогонки\n",
    "    gamma[0] = B\n",
    "    alpha[0] = - C / gamma[0]\n",
    "    beta[0] = f(t[0]) * h**2 / gamma[0]\n",
    "    for i in range(1, N):\n",
    "        gamma[i] = B + A * alpha[i - 1]\n",
    "        alpha[i] = - C / gamma[i]\n",
    "        beta[i] = (f(t[i]) * h**2 - A * beta[i - 1]) / gamma[i]\n",
    "    \n",
    "    #обратный ход прогонки\n",
    "    for i in reversed(range(1, N - 1)):\n",
    "        solution[i] = alpha[i] * solution[i + 1] + beta[i]\n",
    "        \n",
    "    return solution\n",
    "\n",
    "#вычисление погрешности по правилу Рунге\n",
    "def runge(h):\n",
    "    N = count(h) + 1\n",
    "    R = np.zeros(N)\n",
    "    for i in range(N):\n",
    "        R[i] = abs(running(h/2)[2*i] - running(h)[i]) / 3\n",
    "    return R    \n",
    "    \n",
    "#достижение заданной точности\n",
    "def accuracy(h, eps):\n",
    "    R = max(runge(h))\n",
    "    while R > eps:\n",
    "        h1 = h/2\n",
    "        R = max(runge(h))\n",
    "        h = h1\n",
    "    return h"
   ]
  },
  {
   "cell_type": "code",
   "execution_count": 4,
   "metadata": {},
   "outputs": [
    {
     "data": {
      "image/png": "[encoded data removed]",
      "text/plain": [
       "<Figure size 576x576 with 1 Axes>"
      ]
     },
     "metadata": {
      "needs_background": "light"
     },
     "output_type": "display_data"
    }
   ],
   "source": [
    "h = accuracy(0.1, 0.001)\n",
    "A = running(h)\n",
    "T = np.arange(a, b + h, h)\n",
    "\n",
    "B = np.zeros(count(h) + 1)\n",
    "for i in range(count(h) + 1):\n",
    "    B[i] = u(T[i])\n",
    "\n",
    "plt.rcParams[\"figure.figsize\"] = (8, 8)\n",
    "    \n",
    "plt.plot(T, B, 'r');\n",
    "plt.plot(T, A, 'g');\n"
   ]
  },
  {
   "cell_type": "code",
   "execution_count": 5,
   "metadata": {},
   "outputs": [
    {
     "data": {
      "text/plain": [
       "0.0003066229596952518"
      ]
     },
     "execution_count": 5,
     "metadata": {},
     "output_type": "execute_result"
    }
   ],
   "source": [
    "max(runge(h))"
   ]
  },
  {
   "cell_type": "code",
   "execution_count": 6,
   "metadata": {},
   "outputs": [
    {
     "data": {
      "text/plain": [
       "0.0015625"
      ]
     },
     "execution_count": 6,
     "metadata": {},
     "output_type": "execute_result"
    }
   ],
   "source": [
    "h"
   ]
  }
 ],
 "metadata": {
  "kernelspec": {
   "display_name": "Python 3",
   "language": "python",
   "name": "python3"
  },
  "language_info": {
   "codemirror_mode": {
    "name": "ipython",
    "version": 3
   },
   "file_extension": ".py",
   "mimetype": "text/x-python",
   "name": "python",
   "nbconvert_exporter": "python",
   "pygments_lexer": "ipython3",
   "version": "3.6.7"
  }
 },
 "nbformat": 4,
 "nbformat_minor": 2
}
